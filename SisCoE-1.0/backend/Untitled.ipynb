{
 "cells": [
  {
   "cell_type": "code",
   "execution_count": 2,
   "id": "45578d85-3b75-43d6-a7cc-8ef64e134cf5",
   "metadata": {},
   "outputs": [],
   "source": [
    " # Cria grupos\n",
    "grupos = ['Admin', 'Gestor', 'Editor', 'Visitante', 'Prontidão']\n"
   ]
  },
  {
   "cell_type": "code",
   "execution_count": 3,
   "id": "754c10cf-9820-4daf-a365-f77d8df7a771",
   "metadata": {},
   "outputs": [
    {
     "data": {
      "text/plain": [
       "[<Group: Admin>,\n",
       " <Group: Gestor>,\n",
       " <Group: Editor>,\n",
       " <Group: Visitante>,\n",
       " <Group: Prontidão>]"
      ]
     },
     "execution_count": 3,
     "metadata": {},
     "output_type": "execute_result"
    }
   ],
   "source": [
    "[Group.objects.create(name=grupo) for grupo in grupos]"
   ]
  },
  {
   "cell_type": "code",
   "execution_count": 4,
   "id": "8f92766f-1bbe-464f-b225-9bdbd05a8221",
   "metadata": {},
   "outputs": [
    {
     "data": {
      "text/plain": [
       "5"
      ]
     },
     "execution_count": 4,
     "metadata": {},
     "output_type": "execute_result"
    }
   ],
   "source": [
    "Group.objects.count()\n",
    "\n"
   ]
  },
  {
   "cell_type": "code",
   "execution_count": 5,
   "id": "c6a1ed72-d0eb-4007-ae37-35852acdecd1",
   "metadata": {},
   "outputs": [
    {
     "data": {
      "text/plain": [
       "<QuerySet [<Group: Admin>, <Group: Gestor>, <Group: Editor>, <Group: Visitante>, <Group: Prontidão>]>"
      ]
     },
     "execution_count": 5,
     "metadata": {},
     "output_type": "execute_result"
    }
   ],
   "source": [
    "\n",
    "Group.objects.all()"
   ]
  },
  {
   "cell_type": "code",
   "execution_count": null,
   "id": "135b5ff5-aca0-46f0-8601-5839beca1460",
   "metadata": {},
   "outputs": [],
   "source": []
  }
 ],
 "metadata": {
  "kernelspec": {
   "display_name": "Django Shell-Plus",
   "language": "python",
   "name": "django_extensions"
  },
  "language_info": {
   "codemirror_mode": {
    "name": "ipython",
    "version": 3
   },
   "file_extension": ".py",
   "mimetype": "text/x-python",
   "name": "python",
   "nbconvert_exporter": "python",
   "pygments_lexer": "ipython3",
   "version": "3.12.3"
  }
 },
 "nbformat": 4,
 "nbformat_minor": 5
}
